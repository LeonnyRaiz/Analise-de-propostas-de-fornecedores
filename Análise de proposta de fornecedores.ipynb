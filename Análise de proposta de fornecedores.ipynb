{
 "cells": [
  {
   "cell_type": "markdown",
   "id": "dcf2f4b8",
   "metadata": {
    "id": "1H2YhNS2w4md",
    "papermill": {
     "duration": 0.008875,
     "end_time": "2023-09-11T03:07:35.749404",
     "exception": false,
     "start_time": "2023-09-11T03:07:35.740529",
     "status": "completed"
    },
    "tags": []
   },
   "source": [
    "## Análise de propostas de fornecedores"
   ]
  },
  {
   "cell_type": "markdown",
   "id": "36fbea93",
   "metadata": {
    "id": "l4cKajSd5qI8",
    "papermill": {
     "duration": 0.006447,
     "end_time": "2023-09-11T03:07:35.762926",
     "exception": false,
     "start_time": "2023-09-11T03:07:35.756479",
     "status": "completed"
    },
    "tags": []
   },
   "source": [
    "**Contexto**"
   ]
  },
  {
   "cell_type": "markdown",
   "id": "99838fee",
   "metadata": {
    "id": "xFefdq0HyBYY",
    "papermill": {
     "duration": 0.006524,
     "end_time": "2023-09-11T03:07:35.775912",
     "exception": false,
     "start_time": "2023-09-11T03:07:35.769388",
     "status": "completed"
    },
    "tags": []
   },
   "source": [
    "Avaliando as propostas de 8 fornecedores, pegando o valor mínimo de cada item para chegar em um valor 'ótimo', para então conseguir uma possivel redução de valores e baixar a proposta final deles"
   ]
  },
  {
   "cell_type": "code",
   "execution_count": 1,
   "id": "24355cc2",
   "metadata": {
    "execution": {
     "iopub.execute_input": "2023-09-11T03:07:35.791622Z",
     "iopub.status.busy": "2023-09-11T03:07:35.790756Z",
     "iopub.status.idle": "2023-09-11T03:07:36.177022Z",
     "shell.execute_reply": "2023-09-11T03:07:36.175950Z"
    },
    "id": "AGcUZp5Qvfb3",
    "papermill": {
     "duration": 0.397134,
     "end_time": "2023-09-11T03:07:36.179685",
     "exception": false,
     "start_time": "2023-09-11T03:07:35.782551",
     "status": "completed"
    },
    "tags": []
   },
   "outputs": [],
   "source": [
    "#Bibliotecas necessárias\n",
    "\n",
    "from zipfile import ZipFile\n",
    "import os\n",
    "import pandas as pd\n"
   ]
  },
  {
   "cell_type": "code",
   "execution_count": 2,
   "id": "81360702",
   "metadata": {
    "execution": {
     "iopub.execute_input": "2023-09-11T03:07:36.196006Z",
     "iopub.status.busy": "2023-09-11T03:07:36.195512Z",
     "iopub.status.idle": "2023-09-11T03:07:37.753585Z",
     "shell.execute_reply": "2023-09-11T03:07:37.752152Z"
    },
    "id": "d_-Fua3ZvQ1n",
    "papermill": {
     "duration": 1.569271,
     "end_time": "2023-09-11T03:07:37.756346",
     "exception": false,
     "start_time": "2023-09-11T03:07:36.187075",
     "status": "completed"
    },
    "tags": []
   },
   "outputs": [],
   "source": [
    "# Código para fazer o download e a extração dos arquivos necessários\n",
    "\n",
    "!wget  -q https://github.com/LeonnyGR/Lista_De_Fornecedores/archive/refs/heads/main.zip"
   ]
  },
  {
   "cell_type": "code",
   "execution_count": 3,
   "id": "5db7d6b5",
   "metadata": {
    "execution": {
     "iopub.execute_input": "2023-09-11T03:07:37.771545Z",
     "iopub.status.busy": "2023-09-11T03:07:37.771151Z",
     "iopub.status.idle": "2023-09-11T03:07:37.781004Z",
     "shell.execute_reply": "2023-09-11T03:07:37.780183Z"
    },
    "id": "-QnWIB_FwSRe",
    "papermill": {
     "duration": 0.020022,
     "end_time": "2023-09-11T03:07:37.783342",
     "exception": false,
     "start_time": "2023-09-11T03:07:37.763320",
     "status": "completed"
    },
    "tags": []
   },
   "outputs": [],
   "source": [
    "# Descompactando os arquivos\n",
    "\n",
    "with ZipFile('main.zip', 'r') as zipObj:\n",
    "  zipObj.extractall()"
   ]
  },
  {
   "cell_type": "code",
   "execution_count": 4,
   "id": "bed8d9b3",
   "metadata": {
    "execution": {
     "iopub.execute_input": "2023-09-11T03:07:37.798156Z",
     "iopub.status.busy": "2023-09-11T03:07:37.797872Z",
     "iopub.status.idle": "2023-09-11T03:07:37.803785Z",
     "shell.execute_reply": "2023-09-11T03:07:37.802834Z"
    },
    "id": "lsBdH-AMwXGV",
    "outputId": "ea152b1e-bb33-49dc-8324-4de140b640f1",
    "papermill": {
     "duration": 0.0159,
     "end_time": "2023-09-11T03:07:37.806132",
     "exception": false,
     "start_time": "2023-09-11T03:07:37.790232",
     "status": "completed"
    },
    "tags": []
   },
   "outputs": [
    {
     "name": "stdout",
     "output_type": "stream",
     "text": [
      "['Empresa A.xlsx', 'Empresa B.xlsx', 'Empresa C.xlsx', 'Empresa D.xlsx', 'Empresa E.xlsx', 'Empresa F.xlsx', 'Empresa G.xlsx', 'Empresa H.xlsx']\n"
     ]
    }
   ],
   "source": [
    "# Localizando e armazenando os arquivos em uma variável\n",
    "\n",
    "arquivos = os.listdir('/kaggle/working/Lista_De_Fornecedores-main')\n",
    "list.sort(arquivos)\n",
    "print(arquivos)"
   ]
  },
  {
   "cell_type": "code",
   "execution_count": 5,
   "id": "5dee4e70",
   "metadata": {
    "execution": {
     "iopub.execute_input": "2023-09-11T03:07:37.822323Z",
     "iopub.status.busy": "2023-09-11T03:07:37.822022Z",
     "iopub.status.idle": "2023-09-11T03:07:38.533626Z",
     "shell.execute_reply": "2023-09-11T03:07:38.532574Z"
    },
    "id": "IbD1ioDk1VpQ",
    "outputId": "d34024ec-0a61-44de-950e-6d628b0c0704",
    "papermill": {
     "duration": 0.72337,
     "end_time": "2023-09-11T03:07:38.535940",
     "exception": false,
     "start_time": "2023-09-11T03:07:37.812570",
     "status": "completed"
    },
    "tags": []
   },
   "outputs": [
    {
     "data": {
      "text/html": [
       "<div>\n",
       "<style scoped>\n",
       "    .dataframe tbody tr th:only-of-type {\n",
       "        vertical-align: middle;\n",
       "    }\n",
       "\n",
       "    .dataframe tbody tr th {\n",
       "        vertical-align: top;\n",
       "    }\n",
       "\n",
       "    .dataframe thead th {\n",
       "        text-align: right;\n",
       "    }\n",
       "</style>\n",
       "<table border=\"1\" class=\"dataframe\">\n",
       "  <thead>\n",
       "    <tr style=\"text-align: right;\">\n",
       "      <th></th>\n",
       "      <th>Item</th>\n",
       "      <th>Descrição do Item</th>\n",
       "      <th>Quantidade</th>\n",
       "      <th>Empresa A</th>\n",
       "      <th>Empresa B</th>\n",
       "      <th>Empresa C</th>\n",
       "      <th>Empresa D</th>\n",
       "      <th>Empresa E</th>\n",
       "      <th>Empresa F</th>\n",
       "      <th>Empresa G</th>\n",
       "      <th>Empresa H</th>\n",
       "    </tr>\n",
       "  </thead>\n",
       "  <tbody>\n",
       "    <tr>\n",
       "      <th>0</th>\n",
       "      <td>1</td>\n",
       "      <td>Item 1</td>\n",
       "      <td>50</td>\n",
       "      <td>2350</td>\n",
       "      <td>1250</td>\n",
       "      <td>1450</td>\n",
       "      <td>2100</td>\n",
       "      <td>2050</td>\n",
       "      <td>1000</td>\n",
       "      <td>650</td>\n",
       "      <td>2450</td>\n",
       "    </tr>\n",
       "    <tr>\n",
       "      <th>1</th>\n",
       "      <td>2</td>\n",
       "      <td>Item 2</td>\n",
       "      <td>96</td>\n",
       "      <td>2688</td>\n",
       "      <td>1632</td>\n",
       "      <td>2496</td>\n",
       "      <td>2208</td>\n",
       "      <td>1248</td>\n",
       "      <td>2592</td>\n",
       "      <td>1440</td>\n",
       "      <td>1056</td>\n",
       "    </tr>\n",
       "    <tr>\n",
       "      <th>2</th>\n",
       "      <td>3</td>\n",
       "      <td>Item 3</td>\n",
       "      <td>58</td>\n",
       "      <td>1566</td>\n",
       "      <td>754</td>\n",
       "      <td>1276</td>\n",
       "      <td>1914</td>\n",
       "      <td>1508</td>\n",
       "      <td>2146</td>\n",
       "      <td>2378</td>\n",
       "      <td>1508</td>\n",
       "    </tr>\n",
       "    <tr>\n",
       "      <th>3</th>\n",
       "      <td>4</td>\n",
       "      <td>Item 4</td>\n",
       "      <td>69</td>\n",
       "      <td>1863</td>\n",
       "      <td>828</td>\n",
       "      <td>3450</td>\n",
       "      <td>759</td>\n",
       "      <td>1932</td>\n",
       "      <td>2208</td>\n",
       "      <td>1725</td>\n",
       "      <td>3105</td>\n",
       "    </tr>\n",
       "    <tr>\n",
       "      <th>4</th>\n",
       "      <td>5</td>\n",
       "      <td>Item 5</td>\n",
       "      <td>61</td>\n",
       "      <td>1342</td>\n",
       "      <td>1281</td>\n",
       "      <td>1708</td>\n",
       "      <td>1769</td>\n",
       "      <td>2684</td>\n",
       "      <td>1830</td>\n",
       "      <td>2318</td>\n",
       "      <td>610</td>\n",
       "    </tr>\n",
       "  </tbody>\n",
       "</table>\n",
       "</div>"
      ],
      "text/plain": [
       "   Item Descrição do Item  Quantidade  Empresa A  Empresa B  Empresa C  \\\n",
       "0     1            Item 1          50       2350       1250       1450   \n",
       "1     2            Item 2          96       2688       1632       2496   \n",
       "2     3            Item 3          58       1566        754       1276   \n",
       "3     4            Item 4          69       1863        828       3450   \n",
       "4     5            Item 5          61       1342       1281       1708   \n",
       "\n",
       "   Empresa D  Empresa E  Empresa F  Empresa G  Empresa H  \n",
       "0       2100       2050       1000        650       2450  \n",
       "1       2208       1248       2592       1440       1056  \n",
       "2       1914       1508       2146       2378       1508  \n",
       "3        759       1932       2208       1725       3105  \n",
       "4       1769       2684       1830       2318        610  "
      ]
     },
     "execution_count": 5,
     "metadata": {},
     "output_type": "execute_result"
    }
   ],
   "source": [
    "# Lendo a base de dados, renomeando a coluna 'Total' para o nome de cada empresa e criando uma tabela única que contenha o valor total delas\n",
    "\n",
    "licitacao = pd.read_excel('/kaggle/working/Lista_De_Fornecedores-main/Empresa A.xlsx')\n",
    "licitacao = licitacao.rename(columns={'Total': 'Empresa A'})\n",
    "licitacao = licitacao.drop(['Valor Unitário'], axis=1)\n",
    "\n",
    "empresas = arquivos[1:]\n",
    "\n",
    "for empresa in empresas:\n",
    "  proposta = pd.read_excel('/kaggle/working/Lista_De_Fornecedores-main/' + empresa)\n",
    "  licitacao[empresa[:-5]] = proposta['Total'].copy()\n",
    "\n",
    "licitacao.head()\n",
    "\n"
   ]
  },
  {
   "cell_type": "markdown",
   "id": "ae928f35",
   "metadata": {
    "id": "0ehOsVD55gvy",
    "papermill": {
     "duration": 0.006599,
     "end_time": "2023-09-11T03:07:38.549384",
     "exception": false,
     "start_time": "2023-09-11T03:07:38.542785",
     "status": "completed"
    },
    "tags": []
   },
   "source": [
    "## Verificando Valores Totais"
   ]
  },
  {
   "cell_type": "code",
   "execution_count": 6,
   "id": "17f2d64c",
   "metadata": {
    "execution": {
     "iopub.execute_input": "2023-09-11T03:07:38.564889Z",
     "iopub.status.busy": "2023-09-11T03:07:38.564386Z",
     "iopub.status.idle": "2023-09-11T03:07:38.571423Z",
     "shell.execute_reply": "2023-09-11T03:07:38.570363Z"
    },
    "id": "sHawM1qK60sZ",
    "outputId": "6a34ba7c-57e0-44d5-c53e-d95273ae3519",
    "papermill": {
     "duration": 0.017669,
     "end_time": "2023-09-11T03:07:38.573842",
     "exception": false,
     "start_time": "2023-09-11T03:07:38.556173",
     "status": "completed"
    },
    "tags": []
   },
   "outputs": [
    {
     "name": "stdout",
     "output_type": "stream",
     "text": [
      "Empresa A: R$ 429,316.00\n",
      "Empresa B: R$ 267,971.00\n",
      "Empresa C: R$ 447,536.00\n",
      "Empresa D: R$ 421,243.00\n",
      "Empresa E: R$ 446,904.00\n",
      "Empresa F: R$ 472,515.00\n",
      "Empresa G: R$ 428,703.00\n",
      "Empresa H: R$ 459,468.00\n"
     ]
    }
   ],
   "source": [
    "#Somando o valor total de cada empresa\n",
    "\n",
    "for coluna in licitacao.columns[3:]:\n",
    "  total = licitacao[coluna].sum()\n",
    "  print('{}: R$ {:,.2f}'.format(coluna, total))"
   ]
  },
  {
   "cell_type": "markdown",
   "id": "75ca5b11",
   "metadata": {
    "id": "eBnhYPyDEvTW",
    "papermill": {
     "duration": 0.006529,
     "end_time": "2023-09-11T03:07:38.587307",
     "exception": false,
     "start_time": "2023-09-11T03:07:38.580778",
     "status": "completed"
    },
    "tags": []
   },
   "source": [
    "**Insight:** Podemos ver que a empresa B possui os menores valores, são valores muito discrepantes, temos que nos atentar a esse fato, pois o fornecedor pode ter feito uma confusão e não ter entendido nossa proposta ou realmente ele possui preços mais baixos."
   ]
  },
  {
   "cell_type": "markdown",
   "id": "5e1867c6",
   "metadata": {
    "id": "bAAHPtHFGu5Y",
    "papermill": {
     "duration": 0.006821,
     "end_time": "2023-09-11T03:07:38.600858",
     "exception": false,
     "start_time": "2023-09-11T03:07:38.594037",
     "status": "completed"
    },
    "tags": []
   },
   "source": [
    "## Resultado \"ótimo\":"
   ]
  },
  {
   "cell_type": "code",
   "execution_count": 7,
   "id": "a859dbf0",
   "metadata": {
    "execution": {
     "iopub.execute_input": "2023-09-11T03:07:38.616334Z",
     "iopub.status.busy": "2023-09-11T03:07:38.616006Z",
     "iopub.status.idle": "2023-09-11T03:07:38.639930Z",
     "shell.execute_reply": "2023-09-11T03:07:38.638926Z"
    },
    "id": "2jB-pEoaFTQV",
    "outputId": "137cc3a9-1486-4711-8ab0-e42d02af5267",
    "papermill": {
     "duration": 0.034305,
     "end_time": "2023-09-11T03:07:38.642299",
     "exception": false,
     "start_time": "2023-09-11T03:07:38.607994",
     "status": "completed"
    },
    "tags": []
   },
   "outputs": [
    {
     "data": {
      "text/html": [
       "<div>\n",
       "<style scoped>\n",
       "    .dataframe tbody tr th:only-of-type {\n",
       "        vertical-align: middle;\n",
       "    }\n",
       "\n",
       "    .dataframe tbody tr th {\n",
       "        vertical-align: top;\n",
       "    }\n",
       "\n",
       "    .dataframe thead th {\n",
       "        text-align: right;\n",
       "    }\n",
       "</style>\n",
       "<table border=\"1\" class=\"dataframe\">\n",
       "  <thead>\n",
       "    <tr style=\"text-align: right;\">\n",
       "      <th></th>\n",
       "      <th>Item</th>\n",
       "      <th>Descrição do Item</th>\n",
       "      <th>Quantidade</th>\n",
       "      <th>Empresa A</th>\n",
       "      <th>Empresa B</th>\n",
       "      <th>Empresa C</th>\n",
       "      <th>Empresa D</th>\n",
       "      <th>Empresa E</th>\n",
       "      <th>Empresa F</th>\n",
       "      <th>Empresa G</th>\n",
       "      <th>Empresa H</th>\n",
       "      <th>Mínimo</th>\n",
       "    </tr>\n",
       "  </thead>\n",
       "  <tbody>\n",
       "    <tr>\n",
       "      <th>0</th>\n",
       "      <td>1</td>\n",
       "      <td>Item 1</td>\n",
       "      <td>50</td>\n",
       "      <td>2350</td>\n",
       "      <td>1250</td>\n",
       "      <td>1450</td>\n",
       "      <td>2100</td>\n",
       "      <td>2050</td>\n",
       "      <td>1000</td>\n",
       "      <td>650</td>\n",
       "      <td>2450</td>\n",
       "      <td>650</td>\n",
       "    </tr>\n",
       "    <tr>\n",
       "      <th>1</th>\n",
       "      <td>2</td>\n",
       "      <td>Item 2</td>\n",
       "      <td>96</td>\n",
       "      <td>2688</td>\n",
       "      <td>1632</td>\n",
       "      <td>2496</td>\n",
       "      <td>2208</td>\n",
       "      <td>1248</td>\n",
       "      <td>2592</td>\n",
       "      <td>1440</td>\n",
       "      <td>1056</td>\n",
       "      <td>1056</td>\n",
       "    </tr>\n",
       "    <tr>\n",
       "      <th>2</th>\n",
       "      <td>3</td>\n",
       "      <td>Item 3</td>\n",
       "      <td>58</td>\n",
       "      <td>1566</td>\n",
       "      <td>754</td>\n",
       "      <td>1276</td>\n",
       "      <td>1914</td>\n",
       "      <td>1508</td>\n",
       "      <td>2146</td>\n",
       "      <td>2378</td>\n",
       "      <td>1508</td>\n",
       "      <td>754</td>\n",
       "    </tr>\n",
       "    <tr>\n",
       "      <th>3</th>\n",
       "      <td>4</td>\n",
       "      <td>Item 4</td>\n",
       "      <td>69</td>\n",
       "      <td>1863</td>\n",
       "      <td>828</td>\n",
       "      <td>3450</td>\n",
       "      <td>759</td>\n",
       "      <td>1932</td>\n",
       "      <td>2208</td>\n",
       "      <td>1725</td>\n",
       "      <td>3105</td>\n",
       "      <td>759</td>\n",
       "    </tr>\n",
       "    <tr>\n",
       "      <th>4</th>\n",
       "      <td>5</td>\n",
       "      <td>Item 5</td>\n",
       "      <td>61</td>\n",
       "      <td>1342</td>\n",
       "      <td>1281</td>\n",
       "      <td>1708</td>\n",
       "      <td>1769</td>\n",
       "      <td>2684</td>\n",
       "      <td>1830</td>\n",
       "      <td>2318</td>\n",
       "      <td>610</td>\n",
       "      <td>610</td>\n",
       "    </tr>\n",
       "    <tr>\n",
       "      <th>...</th>\n",
       "      <td>...</td>\n",
       "      <td>...</td>\n",
       "      <td>...</td>\n",
       "      <td>...</td>\n",
       "      <td>...</td>\n",
       "      <td>...</td>\n",
       "      <td>...</td>\n",
       "      <td>...</td>\n",
       "      <td>...</td>\n",
       "      <td>...</td>\n",
       "      <td>...</td>\n",
       "      <td>...</td>\n",
       "    </tr>\n",
       "    <tr>\n",
       "      <th>195</th>\n",
       "      <td>196</td>\n",
       "      <td>Item 196</td>\n",
       "      <td>60</td>\n",
       "      <td>1440</td>\n",
       "      <td>1440</td>\n",
       "      <td>1020</td>\n",
       "      <td>2400</td>\n",
       "      <td>1620</td>\n",
       "      <td>2100</td>\n",
       "      <td>2160</td>\n",
       "      <td>2580</td>\n",
       "      <td>1020</td>\n",
       "    </tr>\n",
       "    <tr>\n",
       "      <th>196</th>\n",
       "      <td>197</td>\n",
       "      <td>Item 197</td>\n",
       "      <td>82</td>\n",
       "      <td>2050</td>\n",
       "      <td>1066</td>\n",
       "      <td>3116</td>\n",
       "      <td>1886</td>\n",
       "      <td>1394</td>\n",
       "      <td>3608</td>\n",
       "      <td>3608</td>\n",
       "      <td>1804</td>\n",
       "      <td>1066</td>\n",
       "    </tr>\n",
       "    <tr>\n",
       "      <th>197</th>\n",
       "      <td>198</td>\n",
       "      <td>Item 198</td>\n",
       "      <td>100</td>\n",
       "      <td>3400</td>\n",
       "      <td>2000</td>\n",
       "      <td>1100</td>\n",
       "      <td>1000</td>\n",
       "      <td>3300</td>\n",
       "      <td>4900</td>\n",
       "      <td>1100</td>\n",
       "      <td>1100</td>\n",
       "      <td>1000</td>\n",
       "    </tr>\n",
       "    <tr>\n",
       "      <th>198</th>\n",
       "      <td>199</td>\n",
       "      <td>Item 199</td>\n",
       "      <td>67</td>\n",
       "      <td>804</td>\n",
       "      <td>1072</td>\n",
       "      <td>2680</td>\n",
       "      <td>1809</td>\n",
       "      <td>2814</td>\n",
       "      <td>2881</td>\n",
       "      <td>670</td>\n",
       "      <td>3015</td>\n",
       "      <td>670</td>\n",
       "    </tr>\n",
       "    <tr>\n",
       "      <th>199</th>\n",
       "      <td>200</td>\n",
       "      <td>Item 200</td>\n",
       "      <td>59</td>\n",
       "      <td>1180</td>\n",
       "      <td>1357</td>\n",
       "      <td>1121</td>\n",
       "      <td>1357</td>\n",
       "      <td>1711</td>\n",
       "      <td>2419</td>\n",
       "      <td>2065</td>\n",
       "      <td>767</td>\n",
       "      <td>767</td>\n",
       "    </tr>\n",
       "  </tbody>\n",
       "</table>\n",
       "<p>200 rows × 12 columns</p>\n",
       "</div>"
      ],
      "text/plain": [
       "     Item Descrição do Item  Quantidade  Empresa A  Empresa B  Empresa C  \\\n",
       "0       1            Item 1          50       2350       1250       1450   \n",
       "1       2            Item 2          96       2688       1632       2496   \n",
       "2       3            Item 3          58       1566        754       1276   \n",
       "3       4            Item 4          69       1863        828       3450   \n",
       "4       5            Item 5          61       1342       1281       1708   \n",
       "..    ...               ...         ...        ...        ...        ...   \n",
       "195   196          Item 196          60       1440       1440       1020   \n",
       "196   197          Item 197          82       2050       1066       3116   \n",
       "197   198          Item 198         100       3400       2000       1100   \n",
       "198   199          Item 199          67        804       1072       2680   \n",
       "199   200          Item 200          59       1180       1357       1121   \n",
       "\n",
       "     Empresa D  Empresa E  Empresa F  Empresa G  Empresa H  Mínimo  \n",
       "0         2100       2050       1000        650       2450     650  \n",
       "1         2208       1248       2592       1440       1056    1056  \n",
       "2         1914       1508       2146       2378       1508     754  \n",
       "3          759       1932       2208       1725       3105     759  \n",
       "4         1769       2684       1830       2318        610     610  \n",
       "..         ...        ...        ...        ...        ...     ...  \n",
       "195       2400       1620       2100       2160       2580    1020  \n",
       "196       1886       1394       3608       3608       1804    1066  \n",
       "197       1000       3300       4900       1100       1100    1000  \n",
       "198       1809       2814       2881        670       3015     670  \n",
       "199       1357       1711       2419       2065        767     767  \n",
       "\n",
       "[200 rows x 12 columns]"
      ]
     },
     "metadata": {},
     "output_type": "display_data"
    },
    {
     "name": "stdout",
     "output_type": "stream",
     "text": [
      "193299\n"
     ]
    }
   ],
   "source": [
    "# Criando uma coluna com o valor minimo de cada Item comparando todas as empresas\n",
    "\n",
    "licitacao['Mínimo'] = licitacao.drop(['Item','Descrição do Item', 'Quantidade'],axis=1).min(axis=1)\n",
    "display(licitacao)\n",
    "\n",
    "minimo = licitacao['Mínimo'].sum()\n",
    "print(minimo)"
   ]
  },
  {
   "cell_type": "markdown",
   "id": "8a7ae260",
   "metadata": {
    "id": "QmvbL0BYHMD3",
    "papermill": {
     "duration": 0.007189,
     "end_time": "2023-09-11T03:07:38.656899",
     "exception": false,
     "start_time": "2023-09-11T03:07:38.649710",
     "status": "completed"
    },
    "tags": []
   },
   "source": [
    "## Criando uma planilha de desvios por fornecedor:"
   ]
  },
  {
   "cell_type": "code",
   "execution_count": 8,
   "id": "43ded44f",
   "metadata": {
    "execution": {
     "iopub.execute_input": "2023-09-11T03:07:38.673113Z",
     "iopub.status.busy": "2023-09-11T03:07:38.672767Z",
     "iopub.status.idle": "2023-09-11T03:07:39.060451Z",
     "shell.execute_reply": "2023-09-11T03:07:39.059249Z"
    },
    "id": "WeOEPpqWHM4K",
    "outputId": "e7305a03-9e8b-436a-dc67-ab09f9342edf",
    "papermill": {
     "duration": 0.399264,
     "end_time": "2023-09-11T03:07:39.063195",
     "exception": false,
     "start_time": "2023-09-11T03:07:38.663931",
     "status": "completed"
    },
    "tags": []
   },
   "outputs": [
    {
     "name": "stderr",
     "output_type": "stream",
     "text": [
      "/tmp/ipykernel_20/521148253.py:5: SettingWithCopyWarning: \n",
      "A value is trying to be set on a copy of a slice from a DataFrame.\n",
      "Try using .loc[row_indexer,col_indexer] = value instead\n",
      "\n",
      "See the caveats in the documentation: https://pandas.pydata.org/pandas-docs/stable/user_guide/indexing.html#returning-a-view-versus-a-copy\n",
      "  desvio['Delta'] = desvio[empresa] - desvio['Mínimo']\n",
      "/tmp/ipykernel_20/521148253.py:5: SettingWithCopyWarning: \n",
      "A value is trying to be set on a copy of a slice from a DataFrame.\n",
      "Try using .loc[row_indexer,col_indexer] = value instead\n",
      "\n",
      "See the caveats in the documentation: https://pandas.pydata.org/pandas-docs/stable/user_guide/indexing.html#returning-a-view-versus-a-copy\n",
      "  desvio['Delta'] = desvio[empresa] - desvio['Mínimo']\n",
      "/tmp/ipykernel_20/521148253.py:5: SettingWithCopyWarning: \n",
      "A value is trying to be set on a copy of a slice from a DataFrame.\n",
      "Try using .loc[row_indexer,col_indexer] = value instead\n",
      "\n",
      "See the caveats in the documentation: https://pandas.pydata.org/pandas-docs/stable/user_guide/indexing.html#returning-a-view-versus-a-copy\n",
      "  desvio['Delta'] = desvio[empresa] - desvio['Mínimo']\n",
      "/tmp/ipykernel_20/521148253.py:5: SettingWithCopyWarning: \n",
      "A value is trying to be set on a copy of a slice from a DataFrame.\n",
      "Try using .loc[row_indexer,col_indexer] = value instead\n",
      "\n",
      "See the caveats in the documentation: https://pandas.pydata.org/pandas-docs/stable/user_guide/indexing.html#returning-a-view-versus-a-copy\n",
      "  desvio['Delta'] = desvio[empresa] - desvio['Mínimo']\n",
      "/tmp/ipykernel_20/521148253.py:5: SettingWithCopyWarning: \n",
      "A value is trying to be set on a copy of a slice from a DataFrame.\n",
      "Try using .loc[row_indexer,col_indexer] = value instead\n",
      "\n",
      "See the caveats in the documentation: https://pandas.pydata.org/pandas-docs/stable/user_guide/indexing.html#returning-a-view-versus-a-copy\n",
      "  desvio['Delta'] = desvio[empresa] - desvio['Mínimo']\n",
      "/tmp/ipykernel_20/521148253.py:5: SettingWithCopyWarning: \n",
      "A value is trying to be set on a copy of a slice from a DataFrame.\n",
      "Try using .loc[row_indexer,col_indexer] = value instead\n",
      "\n",
      "See the caveats in the documentation: https://pandas.pydata.org/pandas-docs/stable/user_guide/indexing.html#returning-a-view-versus-a-copy\n",
      "  desvio['Delta'] = desvio[empresa] - desvio['Mínimo']\n",
      "/tmp/ipykernel_20/521148253.py:5: SettingWithCopyWarning: \n",
      "A value is trying to be set on a copy of a slice from a DataFrame.\n",
      "Try using .loc[row_indexer,col_indexer] = value instead\n",
      "\n",
      "See the caveats in the documentation: https://pandas.pydata.org/pandas-docs/stable/user_guide/indexing.html#returning-a-view-versus-a-copy\n",
      "  desvio['Delta'] = desvio[empresa] - desvio['Mínimo']\n",
      "/tmp/ipykernel_20/521148253.py:5: SettingWithCopyWarning: \n",
      "A value is trying to be set on a copy of a slice from a DataFrame.\n",
      "Try using .loc[row_indexer,col_indexer] = value instead\n",
      "\n",
      "See the caveats in the documentation: https://pandas.pydata.org/pandas-docs/stable/user_guide/indexing.html#returning-a-view-versus-a-copy\n",
      "  desvio['Delta'] = desvio[empresa] - desvio['Mínimo']\n"
     ]
    }
   ],
   "source": [
    "# Criando uma planilha para cada fornecedor, pra ele saber o quão longe ele está do valor mínimo dos itens\n",
    "\n",
    "for empresa in licitacao.columns[3:-1]:\n",
    "    desvio = licitacao[['Item','Descrição do Item', 'Quantidade',empresa,'Mínimo']]\n",
    "    desvio['Delta'] = desvio[empresa] - desvio['Mínimo']\n",
    "    desvio.to_excel('Desvio - ' + empresa + '.xlsx', index = False)"
   ]
  },
  {
   "cell_type": "markdown",
   "id": "6f4dec2a",
   "metadata": {
    "id": "tDTsyIYwIPA0",
    "papermill": {
     "duration": 0.007563,
     "end_time": "2023-09-11T03:07:39.078878",
     "exception": false,
     "start_time": "2023-09-11T03:07:39.071315",
     "status": "completed"
    },
    "tags": []
   },
   "source": [
    "**Insight 2:** Criamos uma planilha para cada fornecedor analisar o preço sugerido de cada item. A ideia é que eles reduzam os valores dos seus itens e cheguem num valor ideal para fechar com a nossa empresa"
   ]
  }
 ],
 "kernelspec": {
  "display_name": "Python 3",
  "language": "python",
  "name": "python3"
 },
 "language_info": {
  "codemirror_mode": {
   "name": "ipython",
   "version": 3
  },
  "file_extension": ".py",
  "mimetype": "text/x-python",
  "name": "python",
  "nbconvert_exporter": "python",
  "pygments_lexer": "ipython3",
  "version": "3.6.4"
 },
 "metadata": {
  "colab": {
   "provenance": []
  },
  "kernelspec": {
   "display_name": "Python 3",
   "language": "python",
   "name": "python3"
  },
  "language_info": {
   "codemirror_mode": {
    "name": "ipython",
    "version": 3
   },
   "file_extension": ".py",
   "mimetype": "text/x-python",
   "name": "python",
   "nbconvert_exporter": "python",
   "pygments_lexer": "ipython3",
   "version": "3.10.12"
  },
  "papermill": {
   "default_parameters": {},
   "duration": 7.23386,
   "end_time": "2023-09-11T03:07:39.505346",
   "environment_variables": {},
   "exception": null,
   "input_path": "__notebook__.ipynb",
   "output_path": "__notebook__.ipynb",
   "parameters": {},
   "start_time": "2023-09-11T03:07:32.271486",
   "version": "2.4.0"
  }
 },
 "nbformat": 4,
 "nbformat_minor": 5
}
